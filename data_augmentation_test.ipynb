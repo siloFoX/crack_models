{
 "cells": [
  {
   "cell_type": "code",
   "execution_count": 10,
   "metadata": {},
   "outputs": [],
   "source": [
    "from preprocess import DataCollect\n",
    "import cv2"
   ]
  },
  {
   "cell_type": "code",
   "execution_count": null,
   "metadata": {},
   "outputs": [],
   "source": [
    "class DataAugmentation :\n",
    "    '''\n",
    "        data augmentation with cv2(opencv-python==4.1.0) & DataCollect(class in preprocess.py)\n",
    "    '''\n",
    "    \n",
    "    def __init__ (self) : \n",
    "        data = DataCollect()\n",
    "        \n",
    "        self.noise_path = data.noise_path\n",
    "        self.original_path = data.original_path\n",
    "        \n",
    "        self.noise_list = data.noise_list\n",
    "        self.original_list = data.original_list\n",
    "        \n",
    "    def rotated_data (self, angle = 90) :\n",
    "        "
   ]
  },
  {
   "cell_type": "code",
   "execution_count": 31,
   "metadata": {},
   "outputs": [],
   "source": [
    "test_img_path = \"crack_data\\\\original\\\\1.jpg\"\n",
    "\n",
    "img = cv2.imread(test_img_path, cv2.IMREAD_GRAYSCALE)\n",
    "\n",
    "cv2.imshow(\"test\", img)\n",
    "cv2.waitKey(0)\n",
    "cv2.destroyAllWindows() "
   ]
  },
  {
   "cell_type": "code",
   "execution_count": 34,
   "metadata": {},
   "outputs": [],
   "source": [
    "rotation_Matrix = cv2.getRotationMatrix2D((125, 125), -90, 1)\n",
    "img_rotated = cv2.warpAffine(img, rotation_Matrix, (250, 250))"
   ]
  },
  {
   "cell_type": "code",
   "execution_count": 35,
   "metadata": {},
   "outputs": [],
   "source": [
    "cv2.imshow(\"test\", img)\n",
    "cv2.imshow(\"test_rotated\", img_rotated)\n",
    "cv2.waitKey(0)\n",
    "cv2.destroyAllWindows() "
   ]
  },
  {
   "cell_type": "code",
   "execution_count": null,
   "metadata": {},
   "outputs": [],
   "source": []
  }
 ],
 "metadata": {
  "kernelspec": {
   "display_name": "Python 3",
   "language": "python",
   "name": "python3"
  },
  "language_info": {
   "codemirror_mode": {
    "name": "ipython",
    "version": 3
   },
   "file_extension": ".py",
   "mimetype": "text/x-python",
   "name": "python",
   "nbconvert_exporter": "python",
   "pygments_lexer": "ipython3",
   "version": "3.7.3"
  }
 },
 "nbformat": 4,
 "nbformat_minor": 2
}
