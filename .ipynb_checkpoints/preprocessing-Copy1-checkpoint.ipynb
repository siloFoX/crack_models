{
 "cells": [
  {
   "cell_type": "code",
   "execution_count": 146,
   "metadata": {},
   "outputs": [],
   "source": [
    "import cv2\n",
    "import os\n",
    "import numpy as np"
   ]
  },
  {
   "cell_type": "code",
   "execution_count": 147,
   "metadata": {},
   "outputs": [
    {
     "data": {
      "text/plain": [
       "'C:\\\\Users\\\\ladna\\\\tensorflow2.0\\\\smartprocess\\\\crack_models'"
      ]
     },
     "execution_count": 147,
     "metadata": {},
     "output_type": "execute_result"
    }
   ],
   "source": [
    "os.path.dirname( os.path.abspath(\"crack_data\"))"
   ]
  },
  {
   "cell_type": "code",
   "execution_count": 154,
   "metadata": {},
   "outputs": [],
   "source": [
    "noise_path = \"crack_data\\\\noise\\\\\"\n",
    "original_path = \"crack_data\\\\original\\\\\""
   ]
  },
  {
   "cell_type": "code",
   "execution_count": 155,
   "metadata": {},
   "outputs": [],
   "source": [
    "noise_path += \"11.jpg\"\n",
    "img = cv2.imread(noise_path, cv2.IMREAD_GRAYSCALE)"
   ]
  },
  {
   "cell_type": "code",
   "execution_count": 156,
   "metadata": {},
   "outputs": [
    {
     "name": "stdout",
     "output_type": "stream",
     "text": [
      "(2448, 2448)\n"
     ]
    }
   ],
   "source": [
    "print(img.shape)"
   ]
  },
  {
   "cell_type": "code",
   "execution_count": 157,
   "metadata": {},
   "outputs": [],
   "source": [
    "img = cv2.resize(img, dsize = (250, 250), interpolation = cv2.INTER_AREA)"
   ]
  },
  {
   "cell_type": "code",
   "execution_count": 158,
   "metadata": {},
   "outputs": [
    {
     "name": "stdout",
     "output_type": "stream",
     "text": [
      "(250, 250)\n"
     ]
    }
   ],
   "source": [
    "print(img.shape)"
   ]
  },
  {
   "cell_type": "code",
   "execution_count": 159,
   "metadata": {},
   "outputs": [],
   "source": [
    "cv2.imshow(\"TEST!!\", img)\n",
    "cv2.waitKey(0)\n",
    "cv2.destroyAllWindows()"
   ]
  },
  {
   "cell_type": "code",
   "execution_count": 65,
   "metadata": {},
   "outputs": [],
   "source": [
    "original_path += \"1.jpg\"\n",
    "img = cv2.imread(original_path, cv2.IMREAD_GRAYSCALE)"
   ]
  },
  {
   "cell_type": "code",
   "execution_count": 66,
   "metadata": {},
   "outputs": [
    {
     "name": "stdout",
     "output_type": "stream",
     "text": [
      "(250, 250)\n"
     ]
    }
   ],
   "source": [
    "print(img.shape)"
   ]
  },
  {
   "cell_type": "code",
   "execution_count": 67,
   "metadata": {},
   "outputs": [
    {
     "name": "stdout",
     "output_type": "stream",
     "text": [
      "[[ 79  97 117 ... 108  95  80]\n",
      " [ 51  33  30 ...  57  58  52]\n",
      " [ 41  33  30 ...  52  48  33]\n",
      " ...\n",
      " [113 157 164 ...  50   7  37]\n",
      " [153 149 159 ...  46  10  43]\n",
      " [128 130 135 ...  52   7  40]]\n"
     ]
    }
   ],
   "source": [
    "print(img)"
   ]
  },
  {
   "cell_type": "code",
   "execution_count": 22,
   "metadata": {},
   "outputs": [],
   "source": [
    "cv2.imshow(\"TEST!!\", img)\n",
    "cv2.waitKey(0)\n",
    "cv2.destroyAllWindows()"
   ]
  },
  {
   "cell_type": "code",
   "execution_count": 23,
   "metadata": {},
   "outputs": [
    {
     "data": {
      "text/plain": [
       "numpy.ndarray"
      ]
     },
     "execution_count": 23,
     "metadata": {},
     "output_type": "execute_result"
    }
   ],
   "source": [
    "type(img)"
   ]
  },
  {
   "cell_type": "code",
   "execution_count": 25,
   "metadata": {},
   "outputs": [],
   "source": [
    "num_data = 22\n",
    "\n",
    "noise_path = \"crack_data\\\\noise\\\\\"\n",
    "original_path = \"crack_data\\\\original\\\\\""
   ]
  },
  {
   "cell_type": "code",
   "execution_count": 38,
   "metadata": {},
   "outputs": [
    {
     "name": "stdout",
     "output_type": "stream",
     "text": [
      "<class 'str'>\n"
     ]
    }
   ],
   "source": [
    "print(type(noise_path))"
   ]
  },
  {
   "cell_type": "code",
   "execution_count": 39,
   "metadata": {},
   "outputs": [
    {
     "name": "stdout",
     "output_type": "stream",
     "text": [
      "['__add__', '__class__', '__contains__', '__delattr__', '__dir__', '__doc__', '__eq__', '__format__', '__ge__', '__getattribute__', '__getitem__', '__getnewargs__', '__gt__', '__hash__', '__init__', '__init_subclass__', '__iter__', '__le__', '__len__', '__lt__', '__mod__', '__mul__', '__ne__', '__new__', '__reduce__', '__reduce_ex__', '__repr__', '__rmod__', '__rmul__', '__setattr__', '__sizeof__', '__str__', '__subclasshook__', 'capitalize', 'casefold', 'center', 'count', 'encode', 'endswith', 'expandtabs', 'find', 'format', 'format_map', 'index', 'isalnum', 'isalpha', 'isascii', 'isdecimal', 'isdigit', 'isidentifier', 'islower', 'isnumeric', 'isprintable', 'isspace', 'istitle', 'isupper', 'join', 'ljust', 'lower', 'lstrip', 'maketrans', 'partition', 'replace', 'rfind', 'rindex', 'rjust', 'rpartition', 'rsplit', 'rstrip', 'split', 'splitlines', 'startswith', 'strip', 'swapcase', 'title', 'translate', 'upper', 'zfill']\n"
     ]
    }
   ],
   "source": [
    "print(dir(noise_path))"
   ]
  },
  {
   "cell_type": "code",
   "execution_count": 46,
   "metadata": {},
   "outputs": [
    {
     "name": "stdout",
     "output_type": "stream",
     "text": [
      "17\n"
     ]
    }
   ],
   "source": [
    "print(len(noise_path))"
   ]
  },
  {
   "cell_type": "code",
   "execution_count": 52,
   "metadata": {},
   "outputs": [
    {
     "name": "stdout",
     "output_type": "stream",
     "text": [
      "True\n"
     ]
    }
   ],
   "source": [
    "print(noise_path[len(noise_path) - 1] is '\\\\')"
   ]
  },
  {
   "cell_type": "code",
   "execution_count": 28,
   "metadata": {},
   "outputs": [],
   "source": [
    "list = os.listdir(\"crack_data\\\\noise\")"
   ]
  },
  {
   "cell_type": "code",
   "execution_count": 29,
   "metadata": {},
   "outputs": [
    {
     "name": "stdout",
     "output_type": "stream",
     "text": [
      "['1.jpg', '10.JPG', '11.JPG', '12.JPG', '13.JPG', '14.JPG', '15.JPG', '16.JPG', '17.JPG', '18.JPG', '19.JPG', '2.jpg', '20.JPG', '21.JPG', '22.JPG', '3.jpg', '4.JPG', '5.JPG', '6.JPG', '7.JPG', '8.JPG', '9.JPG']\n"
     ]
    }
   ],
   "source": [
    "print(list)"
   ]
  },
  {
   "cell_type": "code",
   "execution_count": 32,
   "metadata": {},
   "outputs": [
    {
     "data": {
      "text/plain": [
       "list"
      ]
     },
     "execution_count": 32,
     "metadata": {},
     "output_type": "execute_result"
    }
   ],
   "source": [
    "type(list)"
   ]
  },
  {
   "cell_type": "code",
   "execution_count": 35,
   "metadata": {},
   "outputs": [],
   "source": [
    "list = np.array(list)"
   ]
  },
  {
   "cell_type": "code",
   "execution_count": 36,
   "metadata": {},
   "outputs": [
    {
     "name": "stdout",
     "output_type": "stream",
     "text": [
      "(22,)\n"
     ]
    }
   ],
   "source": [
    "print(list.shape)"
   ]
  },
  {
   "cell_type": "code",
   "execution_count": 37,
   "metadata": {},
   "outputs": [
    {
     "name": "stdout",
     "output_type": "stream",
     "text": [
      "1.jpg\n"
     ]
    }
   ],
   "source": [
    "print(list[0])"
   ]
  },
  {
   "cell_type": "code",
   "execution_count": 249,
   "metadata": {},
   "outputs": [],
   "source": [
    "class DataCollect :\n",
    "    \n",
    "    #class collecting data : assert(num_of_noise == num_of_original)\n",
    "    #should be imported numpy(as np), os, cv2(opencv-python)\n",
    "    #data_set returned two data set of ndarray \n",
    "    \n",
    "    def __init__ (self, noise_path = \"crack_data\\\\noise\\\\\", original_path = \"crack_data\\\\original\\\\\") :\n",
    "        self.noise_path = noise_path\n",
    "        self.original_path = original_path\n",
    "        \n",
    "        if(self.noise_path[len(self.noise_path) - 1] != \"\\\\\") :\n",
    "            self.noise_path + \"\\\\\"\n",
    "            \n",
    "        if(self.original_path[len(self.original_path) - 1] != \"\\\\\") :\n",
    "            self.original_path + \"\\\\\"\n",
    "        \n",
    "        self.noise_list = np.array(os.listdir(noise_path))\n",
    "        self.original_list = np.array(os.listdir(original_path))\n",
    "        \n",
    "        self.num_of_data = self.noise_list.shape[0]\n",
    "        \n",
    "        assert(self.num_of_data == self.original_list.shape[0])\n",
    "        \n",
    "        self.status = {\"collected\" : False, \"processed\" : False}\n",
    "        \n",
    "    def raw_data_set (self) :\n",
    "        noise_data = []\n",
    "        original_data = []\n",
    "        \n",
    "        for i in range(self.num_of_data) :\n",
    "            noise_path_tmp = self.noise_path + self.noise_list[i]\n",
    "            original_path_tmp = self.original_path + self.original_list[i]\n",
    "            \n",
    "            noise_tmp = cv2.imread(noise_path_tmp, cv2.IMREAD_GRAYSCALE)\n",
    "            original_tmp = cv2.imread(original_path_tmp, cv2.IMREAD_GRAYSCALE)\n",
    "            \n",
    "            noise_tmp_np = np.array(noise_tmp).astype(np.float32)\n",
    "            original_tmp_np = np.array(original_tmp).astype(np.float32)\n",
    "            \n",
    "            if(noise_tmp_np.shape[0] != 250 or noise_tmp_np.shape[1] != 250) :\n",
    "                noise_tmp = cv2.resize(noise_tmp, dsize = (250, 250), interpolation = cv2.INTER_AREA)\n",
    "                noise_tmp_np = np.array(noise_tmp).astype(np.float32)\n",
    "                \n",
    "            if(original_tmp_np.shape[0] != 250 or original_tmp_np.shape[1] != 250) :\n",
    "                original_tmp = cv2.resize(original_tmp, dsize = (250, 250), interpolation = cv2.INTER_AREA)\n",
    "                original_tmp_np = np.array(original_tmp).astype(np.float32)\n",
    "                \n",
    "            noise_tmp = noise_tmp_np.tolist()\n",
    "            original_tmp = original_tmp_np.tolist()\n",
    "            \n",
    "            noise_data.append(noise_tmp)\n",
    "            original_data.append(original_tmp)\n",
    "        \n",
    "        noise_data = np.array(noise_data)\n",
    "        original_data = np.array(original_data)\n",
    "        \n",
    "        self.raw_noise_data = noise_data\n",
    "        self.raw_original_data = original_data\n",
    "        \n",
    "        self.status[\"collected\"] = True\n",
    "        \n",
    "        return noise_data, original_data\n",
    "    \n",
    "    def preprocessed_set (self) :\n",
    "        if not self.status[\"collected\"] :\n",
    "            raw_noise, raw_original = self.raw_data_set()\n",
    "        else :\n",
    "            raw_noise = self.raw_noise_data\n",
    "            raw_original = self.raw_original_data\n",
    "            \n",
    "        raw_noise /= 255.\n",
    "        raw_original /= 255.\n",
    "        \n",
    "        processed_noise = np.reshape(raw_noise, newshape = (-1, 250, 250, 1))\n",
    "        processed_original = np.reshape(raw_original, newshape = (-1, 250, 250, 1))\n",
    "        \n",
    "        self.processed_noise = processed_noise\n",
    "        self.processed_original = processed_original\n",
    "        \n",
    "        self.status[\"processed\"] = True\n",
    "        \n",
    "        return processed_noise, processed_original\n",
    "    \n",
    "    def sample_show (self, sample_num = 0) :\n",
    "        if(sample_num > self.num_of_data - 1) :\n",
    "            print(\"There's no image in {} index\" .format(sample_num))\n",
    "            \n",
    "            return 0\n",
    "        \n",
    "        if not self.status[\"processed\"] :\n",
    "            self.preprocessed_set()\n",
    "            \n",
    "        cv2.imshow(\"sample_show\", self.processed_original[sample_num])\n",
    "        cv2.waitKey(0)\n",
    "        cv2.destroyAllWindows() "
   ]
  },
  {
   "cell_type": "code",
   "execution_count": 250,
   "metadata": {},
   "outputs": [],
   "source": [
    "data = DataCollect()"
   ]
  },
  {
   "cell_type": "code",
   "execution_count": 227,
   "metadata": {},
   "outputs": [
    {
     "data": {
      "text/plain": [
       "['__class__',\n",
       " '__delattr__',\n",
       " '__dict__',\n",
       " '__dir__',\n",
       " '__doc__',\n",
       " '__eq__',\n",
       " '__format__',\n",
       " '__ge__',\n",
       " '__getattribute__',\n",
       " '__gt__',\n",
       " '__hash__',\n",
       " '__init__',\n",
       " '__init_subclass__',\n",
       " '__le__',\n",
       " '__lt__',\n",
       " '__module__',\n",
       " '__ne__',\n",
       " '__new__',\n",
       " '__reduce__',\n",
       " '__reduce_ex__',\n",
       " '__repr__',\n",
       " '__setattr__',\n",
       " '__sizeof__',\n",
       " '__str__',\n",
       " '__subclasshook__',\n",
       " '__weakref__',\n",
       " 'noise_list',\n",
       " 'noise_path',\n",
       " 'num_of_data',\n",
       " 'original_list',\n",
       " 'original_path',\n",
       " 'preprocessed_set',\n",
       " 'raw_data_set',\n",
       " 'sample_show']"
      ]
     },
     "execution_count": 227,
     "metadata": {},
     "output_type": "execute_result"
    }
   ],
   "source": [
    "dir(data)"
   ]
  },
  {
   "cell_type": "code",
   "execution_count": 228,
   "metadata": {},
   "outputs": [],
   "source": [
    "noise, original = data.raw_data_set()"
   ]
  },
  {
   "cell_type": "code",
   "execution_count": 229,
   "metadata": {},
   "outputs": [
    {
     "data": {
      "text/plain": [
       "(22, 250, 250)"
      ]
     },
     "execution_count": 229,
     "metadata": {},
     "output_type": "execute_result"
    }
   ],
   "source": [
    "noise.shape"
   ]
  },
  {
   "cell_type": "code",
   "execution_count": 230,
   "metadata": {},
   "outputs": [
    {
     "data": {
      "text/plain": [
       "(250, 250)"
      ]
     },
     "execution_count": 230,
     "metadata": {},
     "output_type": "execute_result"
    }
   ],
   "source": [
    "noise[21].shape # 250 : 0, 11, 15-19 "
   ]
  },
  {
   "cell_type": "code",
   "execution_count": 231,
   "metadata": {},
   "outputs": [
    {
     "name": "stdout",
     "output_type": "stream",
     "text": [
      "0.0\n"
     ]
    }
   ],
   "source": [
    "print(noise[0].min(axis = 1).min(axis = 0))"
   ]
  },
  {
   "cell_type": "code",
   "execution_count": 232,
   "metadata": {},
   "outputs": [
    {
     "name": "stdout",
     "output_type": "stream",
     "text": [
      "175.0\n"
     ]
    }
   ],
   "source": [
    "print(noise[3].max(axis = 1).max(axis = 0))"
   ]
  },
  {
   "cell_type": "code",
   "execution_count": 233,
   "metadata": {},
   "outputs": [
    {
     "name": "stdout",
     "output_type": "stream",
     "text": [
      "175.0\n"
     ]
    }
   ],
   "source": [
    "print(noise[3].max(axis = 0).max(axis = 0))"
   ]
  },
  {
   "cell_type": "code",
   "execution_count": 234,
   "metadata": {},
   "outputs": [
    {
     "name": "stdout",
     "output_type": "stream",
     "text": [
      "(22, 250, 250)\n"
     ]
    }
   ],
   "source": [
    "print(noise.shape)"
   ]
  },
  {
   "cell_type": "code",
   "execution_count": 235,
   "metadata": {},
   "outputs": [],
   "source": [
    "noise = np.reshape(noise, newshape = (-1, 250, 250, 1))"
   ]
  },
  {
   "cell_type": "code",
   "execution_count": 236,
   "metadata": {},
   "outputs": [
    {
     "data": {
      "text/plain": [
       "(22, 250, 250, 1)"
      ]
     },
     "execution_count": 236,
     "metadata": {},
     "output_type": "execute_result"
    }
   ],
   "source": [
    "noise.shape"
   ]
  },
  {
   "cell_type": "code",
   "execution_count": 237,
   "metadata": {},
   "outputs": [],
   "source": [
    "processed_noise, processed_original = data.preprocessed_set()"
   ]
  },
  {
   "cell_type": "code",
   "execution_count": 238,
   "metadata": {},
   "outputs": [
    {
     "data": {
      "text/plain": [
       "(22, 250, 250, 1)"
      ]
     },
     "execution_count": 238,
     "metadata": {},
     "output_type": "execute_result"
    }
   ],
   "source": [
    "processed_noise.shape"
   ]
  },
  {
   "cell_type": "code",
   "execution_count": 239,
   "metadata": {},
   "outputs": [
    {
     "data": {
      "text/plain": [
       "array([[[0.12941176],\n",
       "        [0.6745098 ],\n",
       "        [0.72941176],\n",
       "        ...,\n",
       "        [0.65882353],\n",
       "        [0.63529412],\n",
       "        [0.50588235]],\n",
       "\n",
       "       [[0.1254902 ],\n",
       "        [0.67058824],\n",
       "        [0.7372549 ],\n",
       "        ...,\n",
       "        [0.65882353],\n",
       "        [0.69019608],\n",
       "        [0.50588235]],\n",
       "\n",
       "       [[0.07843137],\n",
       "        [0.65882353],\n",
       "        [0.75294118],\n",
       "        ...,\n",
       "        [0.65490196],\n",
       "        [0.68627451],\n",
       "        [0.48627451]],\n",
       "\n",
       "       ...,\n",
       "\n",
       "       [[0.59607843],\n",
       "        [0.56470588],\n",
       "        [0.57647059],\n",
       "        ...,\n",
       "        [0.58431373],\n",
       "        [0.58039216],\n",
       "        [0.57254902]],\n",
       "\n",
       "       [[0.6       ],\n",
       "        [0.55686275],\n",
       "        [0.55686275],\n",
       "        ...,\n",
       "        [0.58431373],\n",
       "        [0.57254902],\n",
       "        [0.57254902]],\n",
       "\n",
       "       [[0.55294118],\n",
       "        [0.5254902 ],\n",
       "        [0.53333333],\n",
       "        ...,\n",
       "        [0.58039216],\n",
       "        [0.57647059],\n",
       "        [0.57647059]]])"
      ]
     },
     "execution_count": 239,
     "metadata": {},
     "output_type": "execute_result"
    }
   ],
   "source": [
    "processed_noise[0]"
   ]
  },
  {
   "cell_type": "code",
   "execution_count": 251,
   "metadata": {},
   "outputs": [],
   "source": [
    "data.sample_show(10)"
   ]
  },
  {
   "cell_type": "code",
   "execution_count": 244,
   "metadata": {},
   "outputs": [
    {
     "name": "stdout",
     "output_type": "stream",
     "text": [
      "true\n"
     ]
    }
   ],
   "source": [
    "if not False :\n",
    "    print(\"true\")"
   ]
  },
  {
   "cell_type": "code",
   "execution_count": 245,
   "metadata": {},
   "outputs": [],
   "source": [
    "dic = {\"a\" : True, \"b\" : False}"
   ]
  },
  {
   "cell_type": "code",
   "execution_count": 248,
   "metadata": {},
   "outputs": [
    {
     "name": "stdout",
     "output_type": "stream",
     "text": [
      "False\n"
     ]
    }
   ],
   "source": [
    "print(dic[\"a\"])"
   ]
  },
  {
   "cell_type": "code",
   "execution_count": 247,
   "metadata": {},
   "outputs": [],
   "source": [
    "dic[\"a\"] = False"
   ]
  },
  {
   "cell_type": "code",
   "execution_count": null,
   "metadata": {},
   "outputs": [],
   "source": []
  }
 ],
 "metadata": {
  "kernelspec": {
   "display_name": "Python 3",
   "language": "python",
   "name": "python3"
  },
  "language_info": {
   "codemirror_mode": {
    "name": "ipython",
    "version": 3
   },
   "file_extension": ".py",
   "mimetype": "text/x-python",
   "name": "python",
   "nbconvert_exporter": "python",
   "pygments_lexer": "ipython3",
   "version": "3.7.3"
  }
 },
 "nbformat": 4,
 "nbformat_minor": 2
}
